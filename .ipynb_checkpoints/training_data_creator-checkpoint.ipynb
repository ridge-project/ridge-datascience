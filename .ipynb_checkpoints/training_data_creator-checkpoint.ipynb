{
 "cells": [
  {
   "cell_type": "code",
   "execution_count": null,
   "metadata": {},
   "outputs": [],
   "source": [
    "def compare_img_screen(image1_path,image2_path):\n",
    "    image1 = cv2.imread(image1_path)\n",
    "    image2 = cv2.imread(image2_path)\n",
    "    compare_images = np.concatenate((image1, image2), axis=1)\n",
    "\n",
    "    font                   = cv2.FONT_HERSHEY_COMPLEX_SMALL\n",
    "    bottomLeftCornerOfText = (0,20)\n",
    "    fontScale              = 1\n",
    "    fontColor              = (0,0,0)\n",
    "    lineType               = 2\n",
    "\n",
    "    cv2.putText(compare_images,'Enter similarity score 0-9, if 10,press ENTER key', \n",
    "        bottomLeftCornerOfText, \n",
    "        font, \n",
    "        fontScale,\n",
    "        fontColor,\n",
    "        lineType)\n",
    "\n",
    "\n",
    "    cv2.imshow('Comparison', compare_images)\n",
    "\n",
    "    key_stroke= cv2.waitKey(0)\n",
    "    cv2.destroyAllWindows()\n",
    "    print(key_stroke)\n",
    "    if key_stroke==13:\n",
    "        rate=10\n",
    "    else:\n",
    "        rate=chr(key_stroke)\n",
    "    return rate"
   ]
  },
  {
   "cell_type": "code",
   "execution_count": null,
   "metadata": {},
   "outputs": [],
   "source": [
    "import os\n",
    "import glob\n",
    "import matplotlib.image as mpimg\n",
    "import matplotlib.pyplot as plt\n",
    "\n",
    "ori_path='ridge_images/Images'\n",
    "modi_path='modified_images'\n",
    "ori_images_list=os.listdir(ori_path)\n",
    "\n",
    "file=open(\"data_from_prg.txt\",\"w\")\n",
    "\n",
    "for ori_image in ori_images_list:\n",
    "    modi_images_list = glob.glob(modi_path+'/'+ori_image[:-4]+'_*')\n",
    "    for modi_image in modi_images_list:\n",
    "        ori_img_wpath=ori_path+'/'+ori_image\n",
    "        rate = compare_img_screen(ori_img_wpath,modi_image)\n",
    "        line =ori_img_wpath+','+modi_image+','+ str(rate)+'\\n'\n",
    "        file.write(line)\n",
    "for ori_image in ori_images_list:\n",
    "    for modi_image in ori_images_list:\n",
    "        ori_img_wpath=ori_path+'/'+ori_image\n",
    "        modi_img_wpath=ori_path+'/'+modi_image\n",
    "        rate = compare_img_screen(ori_img_wpath,modi_img_wpath)\n",
    "        line =ori_img_wpath+','+modi_img_wpath+','+ str(rate)+'\\n'\n",
    "        file.write(line)  \n",
    "file.close()"
   ]
  }
 ],
 "metadata": {
  "kernelspec": {
   "display_name": "Python (tensorflow)",
   "language": "python",
   "name": "myenv"
  },
  "language_info": {
   "codemirror_mode": {
    "name": "ipython",
    "version": 3
   },
   "file_extension": ".py",
   "mimetype": "text/x-python",
   "name": "python",
   "nbconvert_exporter": "python",
   "pygments_lexer": "ipython3",
   "version": "3.6.8"
  }
 },
 "nbformat": 4,
 "nbformat_minor": 2
}
