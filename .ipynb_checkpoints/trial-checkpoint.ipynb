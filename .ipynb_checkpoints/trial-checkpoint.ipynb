{
 "cells": [
  {
   "cell_type": "code",
   "execution_count": null,
   "metadata": {},
   "outputs": [],
   "source": [
    "import os\n",
    "from keras.preprocessing.image import ImageDataGenerator, array_to_img, img_to_array, load_img\n",
    "\n",
    "datagen = ImageDataGenerator(\n",
    "  #      rotation_range=40,\n",
    "        width_shift_range=0.2,\n",
    "        height_shift_range=0.2,\n",
    "        shear_range=0.2,\n",
    "        zoom_range=0.2,\n",
    "        horizontal_flip=False,\n",
    "        rescale=0.8,\n",
    "        fill_mode='nearest')\n",
    "\n",
    "images_list = os.listdir('ridge_images/Images')\n",
    "\n",
    "for image_name in images_list:\n",
    "\n",
    "    img = load_img('ridge_images/Images/'+image_name)  # this is a PIL image\n",
    "    x = img_to_array(img)  # this is a Numpy array with shape (3, 150, 150)\n",
    "    x = x.reshape((1,) + x.shape)  # this is a Numpy array with shape (1, 3, 150, 150)\n",
    "\n",
    "    # the .flow() command below generates batches of randomly transformed images\n",
    "    # and saves the results to the `preview/` directory\n",
    "    i = 0\n",
    "    for batch in datagen.flow(x, batch_size=1,\n",
    "                              save_to_dir='modified_images', save_prefix=image_name[:-4], save_format='png'):\n",
    "        i += 1\n",
    "        if i > 20:\n",
    "            break  # otherwise the generator would loop indefinitely"
   ]
  },
  {
   "cell_type": "code",
   "execution_count": 24,
   "metadata": {},
   "outputs": [],
   "source": [
    "import os\n",
    "import glob\n",
    "import matplotlib.image as mpimg\n",
    "import matplotlib.pyplot as plt\n",
    "\n",
    "def show_images(image_path_original,image_path_check):\n",
    "    \n",
    "    imageA=mpimg.imread(image_path_original)\n",
    "    imageB=mpimg.imread(image_path_check)\n",
    "    fig = plt.figure(\"Comparison\")\n",
    " \n",
    "    # show first image\n",
    "    ax = fig.add_subplot(1, 2, 1)\n",
    "    plt.imshow(imageA, shape=(350,350))\n",
    "    plt.axis(\"off\")\n",
    " \n",
    "    # show the second image\n",
    "    ax = fig.add_subplot(1, 2, 2)\n",
    "    plt.imshow(imageB)\n",
    "    plt.axis(\"off\")\n",
    " \n",
    "    # show the images\n",
    "    plt.show()"
   ]
  },
  {
   "cell_type": "code",
   "execution_count": 25,
   "metadata": {},
   "outputs": [
    {
     "data": {
      "image/png": "[encoded data removed]",
      "text/plain": [
       "<Figure size 432x288 with 2 Axes>"
      ]
     },
     "metadata": {
      "needs_background": "light"
     },
     "output_type": "display_data"
    }
   ],
   "source": [
    "show_images(\"ridge_images/Images/Image1.png\",\"ridge_images/Images/Image2.png\")"
   ]
  },
  {
   "cell_type": "code",
   "execution_count": null,
   "metadata": {},
   "outputs": [],
   "source": [
    "from PIL import Image\n",
    "\n",
    "image =Image.open('ridge_images/Images/Image1.png','ridge_images/Images/Image2.png')\n",
    "image.show()"
   ]
  },
  {
   "cell_type": "code",
   "execution_count": 27,
   "metadata": {},
   "outputs": [],
   "source": []
  },
  {
   "cell_type": "code",
   "execution_count": 1,
   "metadata": {},
   "outputs": [
    {
     "ename": "NameError",
     "evalue": "name 'compare_img_screen' is not defined",
     "output_type": "error",
     "traceback": [
      "\u001b[1;31m---------------------------------------------------------------------------\u001b[0m",
      "\u001b[1;31mNameError\u001b[0m                                 Traceback (most recent call last)",
      "\u001b[1;32m<ipython-input-1-b92858628ff5>\u001b[0m in \u001b[0;36m<module>\u001b[1;34m\u001b[0m\n\u001b[0;32m     14\u001b[0m     \u001b[1;32mfor\u001b[0m \u001b[0mmodi_image\u001b[0m \u001b[1;32min\u001b[0m \u001b[0mmodi_images_list\u001b[0m\u001b[1;33m:\u001b[0m\u001b[1;33m\u001b[0m\u001b[1;33m\u001b[0m\u001b[0m\n\u001b[0;32m     15\u001b[0m         \u001b[0mori_img_wpath\u001b[0m\u001b[1;33m=\u001b[0m\u001b[0mori_path\u001b[0m\u001b[1;33m+\u001b[0m\u001b[1;34m'/'\u001b[0m\u001b[1;33m+\u001b[0m\u001b[0mori_image\u001b[0m\u001b[1;33m\u001b[0m\u001b[1;33m\u001b[0m\u001b[0m\n\u001b[1;32m---> 16\u001b[1;33m         \u001b[0mrate\u001b[0m \u001b[1;33m=\u001b[0m \u001b[0mcompare_img_screen\u001b[0m\u001b[1;33m(\u001b[0m\u001b[0mori_img_wpath\u001b[0m\u001b[1;33m,\u001b[0m\u001b[0mmodi_image\u001b[0m\u001b[1;33m)\u001b[0m\u001b[1;33m\u001b[0m\u001b[1;33m\u001b[0m\u001b[0m\n\u001b[0m\u001b[0;32m     17\u001b[0m         \u001b[0mline\u001b[0m \u001b[1;33m=\u001b[0m\u001b[0mori_img_wpath\u001b[0m\u001b[1;33m+\u001b[0m\u001b[1;34m','\u001b[0m\u001b[1;33m+\u001b[0m\u001b[0mmodi_image\u001b[0m\u001b[1;33m+\u001b[0m\u001b[1;34m','\u001b[0m\u001b[1;33m+\u001b[0m \u001b[0mstr\u001b[0m\u001b[1;33m(\u001b[0m\u001b[0mrate\u001b[0m\u001b[1;33m)\u001b[0m\u001b[1;33m+\u001b[0m\u001b[1;34m'\\n'\u001b[0m\u001b[1;33m\u001b[0m\u001b[1;33m\u001b[0m\u001b[0m\n\u001b[0;32m     18\u001b[0m         \u001b[0mfile\u001b[0m\u001b[1;33m.\u001b[0m\u001b[0mwrite\u001b[0m\u001b[1;33m(\u001b[0m\u001b[0mline\u001b[0m\u001b[1;33m)\u001b[0m\u001b[1;33m\u001b[0m\u001b[1;33m\u001b[0m\u001b[0m\n",
      "\u001b[1;31mNameError\u001b[0m: name 'compare_img_screen' is not defined"
     ]
    }
   ],
   "source": [
    "import os\n",
    "import glob\n",
    "import matplotlib.image as mpimg\n",
    "import matplotlib.pyplot as plt\n",
    "\n",
    "ori_path='ridge_images/Images'\n",
    "modi_path='modified_images'\n",
    "ori_images_list=os.listdir(ori_path)\n",
    "\n",
    "file=open(\"data_from_prg.txt\",\"w\")\n",
    "\n",
    "for ori_image in ori_images_list:\n",
    "    modi_images_list = glob.glob(modi_path+'/'+ori_image[:-4]+'_*')\n",
    "    for modi_image in modi_images_list:\n",
    "        ori_img_wpath=ori_path+'/'+ori_image\n",
    "        rate = compare_img_screen(ori_img_wpath,modi_image)\n",
    "        line =ori_img_wpath+','+modi_image+','+ str(rate)+'\\n'\n",
    "        file.write(line)\n",
    "for ori_image in ori_images_list:\n",
    "    for modi_image in ori_images_list:\n",
    "        ori_img_wpath=ori_path+'/'+ori_image\n",
    "        modi_img_wpath=ori_path+'/'+modi_image\n",
    "        rate = compare_img_screen(ori_img_wpath,modi_img_wpath)\n",
    "        line =ori_img_wpath+','+modi_img_wpath+','+ str(rate)+'\\n'\n",
    "        file.write(line)  \n",
    "file.close()       "
   ]
  },
  {
   "cell_type": "code",
   "execution_count": 9,
   "metadata": {},
   "outputs": [
    {
     "data": {
      "image/png": "[encoded data removed]",
      "text/plain": [
       "<Figure size 432x288 with 2 Axes>"
      ]
     },
     "metadata": {
      "needs_background": "light"
     },
     "output_type": "display_data"
    }
   ],
   "source": [
    "import numpy as np\n",
    "import pylab\n",
    "import matplotlib.cm as cm\n",
    "from PIL import Image\n",
    "\n",
    "f = pylab.figure()\n",
    "for n, fname in enumerate(('ridge_images/Images/Image1.png', 'ridge_images/Images/Image2.png')):\n",
    "    image=Image.open(fname).convert(\"L\")\n",
    "    arr=np.asarray(image)\n",
    "   # f.add_subplot(2, 1, n+1)  # this line outputs images on top of each other\n",
    "    f.add_subplot(1, 2, n+1)  # this line outputs images side-by-side\n",
    "    pylab.imshow(arr,cmap=cm.Greys_r)\n",
    "pylab.title('Double image')\n",
    "pylab.show()"
   ]
  },
  {
   "cell_type": "code",
   "execution_count": 25,
   "metadata": {},
   "outputs": [
    {
     "name": "stdout",
     "output_type": "stream",
     "text": [
      "49\n",
      "1\n"
     ]
    }
   ],
   "source": [
    "\n"
   ]
  },
  {
   "cell_type": "code",
   "execution_count": 12,
   "metadata": {},
   "outputs": [
    {
     "ename": "SyntaxError",
     "evalue": "unexpected EOF while parsing (<ipython-input-12-78b733c5d623>, line 6)",
     "output_type": "error",
     "traceback": [
      "\u001b[1;36m  File \u001b[1;32m\"<ipython-input-12-78b733c5d623>\"\u001b[1;36m, line \u001b[1;32m6\u001b[0m\n\u001b[1;33m    imshow(np.asarray(pil_im)\u001b[0m\n\u001b[1;37m                             ^\u001b[0m\n\u001b[1;31mSyntaxError\u001b[0m\u001b[1;31m:\u001b[0m unexpected EOF while parsing\n"
     ]
    }
   ],
   "source": [
    "import numpy as np\n",
    "from PIL import Image\n",
    "\n",
    "%matplotlib inline\n",
    "pil_im = Image.open('ridge_images/Images/Image1.png', 'r')\n",
    "imshow(np.asarray(pil_im)"
   ]
  },
  {
   "cell_type": "code",
   "execution_count": 13,
   "metadata": {},
   "outputs": [],
   "source": [
    "# File: farmer_john_field\n",
    "# Author: Elijah Cherry\n",
    "# Course: CS-1010\n",
    "# Original Problem: Draw specified image and calculate area of darkened region\n",
    "\n",
    "from tkinter import *\n",
    "from tkinter import ttk\n",
    "import math\n",
    "\n",
    "root = Tk()\n",
    "win = Canvas(root, width = 500, height = 500)\n",
    "win.grid()\n",
    "image1 = cv2.imread('ridge_images/Images/Image1.png')\n",
    "def main():\n",
    "    def display_image():\n",
    "        # point a = 200,200\n",
    "        # point b = 300,200\n",
    "        # point c = 300,300\n",
    "        # point d = 200,300\n",
    "\n",
    "        # points move clockwise from top left (north west) quadrant\n",
    "       \n",
    "        # rectangle to fill rear area\n",
    "        rectangle_back = win.create_rectangle (200,200,  300,300, fill=\"gray\")\n",
    "\n",
    "        # circles will be placed by top left corner and bottom right corner\n",
    "        circle_a = win.create_oval (200-50, 200-50,   200+50, 200+50, fill=\"white\")\n",
    "        #                           a  xtl, a  ytl    a  xbr  a  ybr\n",
    "        circle_b = win.create_oval (300-50, 200-50,   300+50, 200+50, fill=\"white\")\n",
    "        #                           b  xtl, b  ytl    b  xbr  b  ybr\n",
    "        circle_c = win.create_oval (300-50, 300-50,   300+50, 300+50, fill=\"white\")\n",
    "        #                           c  xtl, c  ytl    c  xbr  c  ybr\n",
    "        circle_d = win.create_oval (200-50, 300-50,   200+50, 300+50, fill=\"white\")\n",
    "        #                           d  xtl, d  ytl    d  xbr  d  ybr\n",
    "\n",
    "        # rectangle outline\n",
    "        rectangle_outline = win.create_rectangle (200,200,  300,300, outline=\"gray\")\n",
    "\n",
    "        # texts (labels for points a b c d)\n",
    "        text_a = win.create_text (200,200, anchor=\"se\", text=\"A\", fill=\"black\")\n",
    "        text_b = win.create_text (300,200, anchor=\"sw\", text=\"B\", fill=\"black\")\n",
    "        text_c = win.create_text (300,300, anchor=\"nw\", text=\"C\", fill=\"black\")\n",
    "        text_d = win.create_text (200,300, anchor=\"ne\", text=\"D\", fill=\"black\")\n",
    "\n",
    "\n",
    "    def display_the_query():\n",
    "        query_label = Label(root,\n",
    "                        text=\"Enter length of one side of the square ABCD: \")\n",
    "        query_entry = Entry(root)\n",
    "        # to be able to track the entry text\n",
    "        # . notation to attach it as an attribute\n",
    "        query_entry.var = StringVar()\n",
    "        # to attaching the attribute as the displayed text\n",
    "        query_entry['textvariable'] = query_entry.var\n",
    "        result_label = Label(root)\n",
    "        # to actually track the input each time there's a difference\n",
    "        # which essentially allows dynamically calculating the result\n",
    "        query_entry.var.trace_add('write',\n",
    "            lambda *_, var=query_entry.var, lbl=result_label: calcn(var, lbl))\n",
    "        query_label.grid()\n",
    "        query_entry.grid()\n",
    "        result_label.grid()\n",
    "\n",
    "    def calcn(var, result_label):\n",
    "        user_input = var.get()\n",
    "        if user_input:\n",
    "            length = float(user_input)\n",
    "            radius = length / 2\n",
    "            dark_area_result = math.pi * radius**(2)\n",
    "            result_label['text'] = \"Area of shaded region = {:0.2f}\".format(\n",
    "                                                            dark_area_result)\n",
    "\n",
    "\n",
    "    display_image()\n",
    "    display_the_query()\n",
    "\n",
    "main()\n",
    "mainloop()"
   ]
  },
  {
   "cell_type": "code",
   "execution_count": null,
   "metadata": {},
   "outputs": [],
   "source": []
  }
 ],
 "metadata": {
  "kernelspec": {
   "display_name": "Python (tensorflow)",
   "language": "python",
   "name": "myenv"
  },
  "language_info": {
   "codemirror_mode": {
    "name": "ipython",
    "version": 3
   },
   "file_extension": ".py",
   "mimetype": "text/x-python",
   "name": "python",
   "nbconvert_exporter": "python",
   "pygments_lexer": "ipython3",
   "version": "3.6.8"
  }
 },
 "nbformat": 4,
 "nbformat_minor": 2
}
